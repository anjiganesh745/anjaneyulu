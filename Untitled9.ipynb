{
  "nbformat": 4,
  "nbformat_minor": 0,
  "metadata": {
    "colab": {
      "provenance": [],
      "authorship_tag": "ABX9TyPX9V9OHKWn8XPypVlkFMu0",
      "include_colab_link": true
    },
    "kernelspec": {
      "name": "python3",
      "display_name": "Python 3"
    },
    "language_info": {
      "name": "python"
    }
  },
  "cells": [
    {
      "cell_type": "markdown",
      "metadata": {
        "id": "view-in-github",
        "colab_type": "text"
      },
      "source": [
        "<a href=\"https://colab.research.google.com/github/anjiganesh745/anjaneyulu/blob/master/Untitled9.ipynb\" target=\"_parent\"><img src=\"https://colab.research.google.com/assets/colab-badge.svg\" alt=\"Open In Colab\"/></a>"
      ]
    },
    {
      "cell_type": "code",
      "execution_count": null,
      "metadata": {
        "colab": {
          "base_uri": "https://localhost:8080/",
          "height": 490
        },
        "id": "Y_Z1g-0zHI9t",
        "outputId": "37068277-4689-4a38-d0fe-b953185df5a7"
      },
      "outputs": [
        {
          "output_type": "stream",
          "name": "stdout",
          "text": [
            "              precision    recall  f1-score   support\n",
            "\n",
            "           0       1.00      1.00      1.00        56\n",
            "           1       0.91      1.00      0.95        58\n",
            "           2       1.00      1.00      1.00        48\n",
            "           3       0.96      1.00      0.98        54\n",
            "           4       0.96      1.00      0.98        48\n",
            "           5       0.96      0.96      0.96        53\n",
            "           6       1.00      0.97      0.98        67\n",
            "           7       1.00      0.98      0.99        50\n",
            "           8       1.00      0.88      0.94        52\n",
            "           9       0.98      0.96      0.97        54\n",
            "\n",
            "    accuracy                           0.98       540\n",
            "   macro avg       0.98      0.98      0.98       540\n",
            "weighted avg       0.98      0.98      0.98       540\n",
            "\n"
          ]
        },
        {
          "output_type": "display_data",
          "data": {
            "text/plain": [
              "<Figure size 1000x300 with 4 Axes>"
            ],
            "image/png": "[encoded data removed]"
          },
          "metadata": {}
        }
      ],
      "source": [
        "from sklearn.metrics import confusion_matrix\n",
        "import pandas as pd\n",
        "import numpy as np\n",
        "import matplotlib.pyplot as plt\n",
        "from sklearn.datasets import load_digits\n",
        "df=load_digits()\n",
        "_,axes=plt.subplots(nrows=1,ncols=4,figsize=(10,3))\n",
        "for ax,image,label in zip(axes,df.images,df.target):\n",
        "  ax.set_axis_off()\n",
        "  ax.imshow(image,cmap=plt.cm.gray_r,interpolation=\"nearest\")\n",
        "  ax.set_title(\"training :%i\"%label)\n",
        "df.images.shape\n",
        "df.images[0]\n",
        "df.images[0].shape\n",
        "len(df.images)\n",
        "n_samples=len(df.images)\n",
        "data=df.images.reshape((n_samples,-1))\n",
        "data[0]\n",
        "data[0].shape\n",
        "data.shape\n",
        "data.min()\n",
        "data.max()\n",
        "data=data/16\n",
        "data.min()\n",
        "data.max()\n",
        "data[0]\n",
        "from sklearn.model_selection import train_test_split\n",
        "x_train,x_test,y_train,y_test=train_test_split(data,df.target,test_size=0.3)\n",
        "x_train.shape,x_test.shape,y_train.shape,y_test.shape\n",
        "from sklearn.ensemble import RandomForestClassifier\n",
        "rf=RandomForestClassifier()\n",
        "rf.fit(x_train,y_train)\n",
        "y_pred=rf.predict(x_test)\n",
        "y_pred\n",
        "from sklearn.metrics import confusion_matrix,classification_report\n",
        "confusion_matrix(y_test,y_pred)\n",
        "print(classification_report(y_test,y_pred))\n"
      ]
    },
    {
      "cell_type": "code",
      "source": [
        "import pandas as pd\n",
        "import numpy as np\n",
        "df=pd.read_csv()"
      ],
      "metadata": {
        "id": "I1wxHMNxPZlR"
      },
      "execution_count": null,
      "outputs": []
    }
  ]
}